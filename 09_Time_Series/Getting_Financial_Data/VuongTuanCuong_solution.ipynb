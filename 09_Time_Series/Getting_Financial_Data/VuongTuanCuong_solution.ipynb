{
 "cells": [
  {
   "cell_type": "markdown",
   "metadata": {
    "pycharm": {
     "name": "#%% md\n"
    }
   },
   "source": [
    "# Getting Financial Data - Pandas Datareader"
   ]
  },
  {
   "cell_type": "markdown",
   "metadata": {
    "pycharm": {
     "name": "#%% md\n"
    }
   },
   "source": [
    "### Introduction:\n",
    "\n",
    "This time you will get data from a website.\n",
    "\n",
    "\n",
    "### Step 1. Import the necessary libraries"
   ]
  },
  {
   "cell_type": "code",
   "execution_count": 1,
   "metadata": {
    "pycharm": {
     "name": "#%%\n"
    }
   },
   "outputs": [],
   "source": [
    "import numpy as np\n",
    "import pandas as pd\n",
    "\n",
    "# package to extract data from various Internet sources into a DataFrame\n",
    "# make sure you have it installed\n",
    "import pandas_datareader.data as web\n",
    "\n",
    "# package for dates\n",
    "import datetime as dt"
   ]
  },
  {
   "cell_type": "markdown",
   "metadata": {
    "pycharm": {
     "name": "#%% md\n"
    }
   },
   "source": [
    "### Step 2. Create your time range (start and end variables). The start date should be 01/01/2015 and the end should today (whatever your today is)."
   ]
  },
  {
   "cell_type": "code",
   "execution_count": 12,
   "metadata": {
    "pycharm": {
     "name": "#%%\n"
    }
   },
   "outputs": [
    {
     "name": "stdout",
     "output_type": "stream",
     "text": [
      "Start Date: 2015-01-01 00:00:00\n",
      "End Date: 2024-05-15 22:58:10.001795\n"
     ]
    }
   ],
   "source": [
    "import datetime as dt\n",
    "\n",
    "start = dt.datetime(2015, 1, 1)\n",
    "end = dt.datetime.today()\n",
    "\n",
    "print(\"Start Date:\", start)\n",
    "print(\"End Date:\", end)"
   ]
  },
  {
   "cell_type": "markdown",
   "metadata": {
    "pycharm": {
     "name": "#%% md\n"
    }
   },
   "source": [
    "### Step 3. Get an API key for one of the APIs that are supported by Pandas Datareader, preferably for AlphaVantage.\n",
    "\n",
    "If you do not have an API key for any of the supported APIs, it is easiest to get one for [AlphaVantage](https://www.alphavantage.co/support/#api-key). (Note that the API key is shown directly after the signup. You do *not* receive it via e-mail.)\n",
    "\n",
    "(For a full list of the APIs that are supported by Pandas Datareader, [see here](https://pydata.github.io/pandas-datareader/readers/index.html). As the APIs are provided by third parties, this list may change.)"
   ]
  },
  {
   "cell_type": "markdown",
   "metadata": {
    "pycharm": {
     "name": "#%% md\n"
    }
   },
   "source": [
    "### Step 4. Use Pandas Datarader to read the daily time series for the Apple stock (ticker symbol AAPL) between 01/01/2015 and today, assign it to df_apple and print it."
   ]
  },
  {
   "cell_type": "code",
   "execution_count": 13,
   "metadata": {
    "pycharm": {
     "name": "#%%\n"
    }
   },
   "outputs": [
    {
     "name": "stderr",
     "output_type": "stream",
     "text": [
      "[*********************100%%**********************]  1 of 1 completed\n"
     ]
    },
    {
     "data": {
      "text/html": [
       "<div>\n",
       "<style scoped>\n",
       "    .dataframe tbody tr th:only-of-type {\n",
       "        vertical-align: middle;\n",
       "    }\n",
       "\n",
       "    .dataframe tbody tr th {\n",
       "        vertical-align: top;\n",
       "    }\n",
       "\n",
       "    .dataframe thead th {\n",
       "        text-align: right;\n",
       "    }\n",
       "</style>\n",
       "<table border=\"1\" class=\"dataframe\">\n",
       "  <thead>\n",
       "    <tr style=\"text-align: right;\">\n",
       "      <th></th>\n",
       "      <th>Open</th>\n",
       "      <th>High</th>\n",
       "      <th>Low</th>\n",
       "      <th>Close</th>\n",
       "      <th>Adj Close</th>\n",
       "      <th>Volume</th>\n",
       "    </tr>\n",
       "    <tr>\n",
       "      <th>Date</th>\n",
       "      <th></th>\n",
       "      <th></th>\n",
       "      <th></th>\n",
       "      <th></th>\n",
       "      <th></th>\n",
       "      <th></th>\n",
       "    </tr>\n",
       "  </thead>\n",
       "  <tbody>\n",
       "    <tr>\n",
       "      <th>2015-01-02</th>\n",
       "      <td>27.847500</td>\n",
       "      <td>27.860001</td>\n",
       "      <td>26.837500</td>\n",
       "      <td>27.332500</td>\n",
       "      <td>24.402172</td>\n",
       "      <td>212818400</td>\n",
       "    </tr>\n",
       "    <tr>\n",
       "      <th>2015-01-05</th>\n",
       "      <td>27.072500</td>\n",
       "      <td>27.162500</td>\n",
       "      <td>26.352501</td>\n",
       "      <td>26.562500</td>\n",
       "      <td>23.714724</td>\n",
       "      <td>257142000</td>\n",
       "    </tr>\n",
       "    <tr>\n",
       "      <th>2015-01-06</th>\n",
       "      <td>26.635000</td>\n",
       "      <td>26.857500</td>\n",
       "      <td>26.157499</td>\n",
       "      <td>26.565001</td>\n",
       "      <td>23.716957</td>\n",
       "      <td>263188400</td>\n",
       "    </tr>\n",
       "    <tr>\n",
       "      <th>2015-01-07</th>\n",
       "      <td>26.799999</td>\n",
       "      <td>27.049999</td>\n",
       "      <td>26.674999</td>\n",
       "      <td>26.937500</td>\n",
       "      <td>24.049519</td>\n",
       "      <td>160423600</td>\n",
       "    </tr>\n",
       "    <tr>\n",
       "      <th>2015-01-08</th>\n",
       "      <td>27.307501</td>\n",
       "      <td>28.037500</td>\n",
       "      <td>27.174999</td>\n",
       "      <td>27.972500</td>\n",
       "      <td>24.973558</td>\n",
       "      <td>237458000</td>\n",
       "    </tr>\n",
       "  </tbody>\n",
       "</table>\n",
       "</div>"
      ],
      "text/plain": [
       "                 Open       High        Low      Close  Adj Close     Volume\n",
       "Date                                                                        \n",
       "2015-01-02  27.847500  27.860001  26.837500  27.332500  24.402172  212818400\n",
       "2015-01-05  27.072500  27.162500  26.352501  26.562500  23.714724  257142000\n",
       "2015-01-06  26.635000  26.857500  26.157499  26.565001  23.716957  263188400\n",
       "2015-01-07  26.799999  27.049999  26.674999  26.937500  24.049519  160423600\n",
       "2015-01-08  27.307501  28.037500  27.174999  27.972500  24.973558  237458000"
      ]
     },
     "execution_count": 13,
     "metadata": {},
     "output_type": "execute_result"
    }
   ],
   "source": [
    "import yfinance as yf\n",
    "\n",
    "df_apple = yf.download('AAPL', start='2015-01-01', end=end)\n",
    "df_apple.head()"
   ]
  },
  {
   "cell_type": "markdown",
   "metadata": {},
   "source": [
    "### Step 5. Add a new column \"stock\" to the dataframe and add the ticker symbol"
   ]
  },
  {
   "cell_type": "code",
   "execution_count": 14,
   "metadata": {
    "pycharm": {
     "name": "#%%\n"
    }
   },
   "outputs": [
    {
     "data": {
      "text/html": [
       "<div>\n",
       "<style scoped>\n",
       "    .dataframe tbody tr th:only-of-type {\n",
       "        vertical-align: middle;\n",
       "    }\n",
       "\n",
       "    .dataframe tbody tr th {\n",
       "        vertical-align: top;\n",
       "    }\n",
       "\n",
       "    .dataframe thead th {\n",
       "        text-align: right;\n",
       "    }\n",
       "</style>\n",
       "<table border=\"1\" class=\"dataframe\">\n",
       "  <thead>\n",
       "    <tr style=\"text-align: right;\">\n",
       "      <th></th>\n",
       "      <th>Open</th>\n",
       "      <th>High</th>\n",
       "      <th>Low</th>\n",
       "      <th>Close</th>\n",
       "      <th>Adj Close</th>\n",
       "      <th>Volume</th>\n",
       "      <th>stock</th>\n",
       "    </tr>\n",
       "    <tr>\n",
       "      <th>Date</th>\n",
       "      <th></th>\n",
       "      <th></th>\n",
       "      <th></th>\n",
       "      <th></th>\n",
       "      <th></th>\n",
       "      <th></th>\n",
       "      <th></th>\n",
       "    </tr>\n",
       "  </thead>\n",
       "  <tbody>\n",
       "    <tr>\n",
       "      <th>2015-01-02</th>\n",
       "      <td>27.847500</td>\n",
       "      <td>27.860001</td>\n",
       "      <td>26.837500</td>\n",
       "      <td>27.332500</td>\n",
       "      <td>24.402172</td>\n",
       "      <td>212818400</td>\n",
       "      <td>AAPL</td>\n",
       "    </tr>\n",
       "    <tr>\n",
       "      <th>2015-01-05</th>\n",
       "      <td>27.072500</td>\n",
       "      <td>27.162500</td>\n",
       "      <td>26.352501</td>\n",
       "      <td>26.562500</td>\n",
       "      <td>23.714724</td>\n",
       "      <td>257142000</td>\n",
       "      <td>AAPL</td>\n",
       "    </tr>\n",
       "    <tr>\n",
       "      <th>2015-01-06</th>\n",
       "      <td>26.635000</td>\n",
       "      <td>26.857500</td>\n",
       "      <td>26.157499</td>\n",
       "      <td>26.565001</td>\n",
       "      <td>23.716957</td>\n",
       "      <td>263188400</td>\n",
       "      <td>AAPL</td>\n",
       "    </tr>\n",
       "    <tr>\n",
       "      <th>2015-01-07</th>\n",
       "      <td>26.799999</td>\n",
       "      <td>27.049999</td>\n",
       "      <td>26.674999</td>\n",
       "      <td>26.937500</td>\n",
       "      <td>24.049519</td>\n",
       "      <td>160423600</td>\n",
       "      <td>AAPL</td>\n",
       "    </tr>\n",
       "    <tr>\n",
       "      <th>2015-01-08</th>\n",
       "      <td>27.307501</td>\n",
       "      <td>28.037500</td>\n",
       "      <td>27.174999</td>\n",
       "      <td>27.972500</td>\n",
       "      <td>24.973558</td>\n",
       "      <td>237458000</td>\n",
       "      <td>AAPL</td>\n",
       "    </tr>\n",
       "  </tbody>\n",
       "</table>\n",
       "</div>"
      ],
      "text/plain": [
       "                 Open       High        Low      Close  Adj Close     Volume  \\\n",
       "Date                                                                           \n",
       "2015-01-02  27.847500  27.860001  26.837500  27.332500  24.402172  212818400   \n",
       "2015-01-05  27.072500  27.162500  26.352501  26.562500  23.714724  257142000   \n",
       "2015-01-06  26.635000  26.857500  26.157499  26.565001  23.716957  263188400   \n",
       "2015-01-07  26.799999  27.049999  26.674999  26.937500  24.049519  160423600   \n",
       "2015-01-08  27.307501  28.037500  27.174999  27.972500  24.973558  237458000   \n",
       "\n",
       "           stock  \n",
       "Date              \n",
       "2015-01-02  AAPL  \n",
       "2015-01-05  AAPL  \n",
       "2015-01-06  AAPL  \n",
       "2015-01-07  AAPL  \n",
       "2015-01-08  AAPL  "
      ]
     },
     "execution_count": 14,
     "metadata": {},
     "output_type": "execute_result"
    }
   ],
   "source": [
    "df_apple['stock'] = 'AAPL'\n",
    "df_apple.head()"
   ]
  },
  {
   "cell_type": "markdown",
   "metadata": {
    "pycharm": {
     "name": "#%% md\n"
    }
   },
   "source": [
    "### Step 6. Repeat the two previous steps for a few other stocks, always creating a new dataframe: Tesla, IBM and Microsoft. (Ticker symbols TSLA, IBM and MSFT.)"
   ]
  },
  {
   "cell_type": "code",
   "execution_count": 15,
   "metadata": {
    "pycharm": {
     "name": "#%%\n"
    }
   },
   "outputs": [
    {
     "name": "stderr",
     "output_type": "stream",
     "text": [
      "[*********************100%%**********************]  1 of 1 completed\n",
      "[*********************100%%**********************]  1 of 1 completed\n",
      "[*********************100%%**********************]  1 of 1 completed\n"
     ]
    }
   ],
   "source": [
    "df_tsla = yf.download('TSLA', start='2015-01-01', end=end)\n",
    "df_ibm = yf.download('IBM', start='2015-01-01', end=end)\n",
    "df_msft = yf.download('MSFT', start='2015-01-01', end=end)\n",
    "\n",
    "df_tsla['stock'] = 'TSLA'\n",
    "df_ibm['stock'] = 'IBM'\n",
    "df_msft['stock'] = 'MSFT'"
   ]
  },
  {
   "cell_type": "markdown",
   "metadata": {
    "pycharm": {
     "name": "#%% md\n"
    }
   },
   "source": [
    "### Step 7. Combine the four separate dataFrames into one combined dataFrame df that holds the information for all four stocks"
   ]
  },
  {
   "cell_type": "code",
   "execution_count": 37,
   "metadata": {
    "pycharm": {
     "name": "#%%\n"
    }
   },
   "outputs": [],
   "source": [
    "df = pd.concat([df_apple,df_tsla,df_ibm,df_msft])"
   ]
  },
  {
   "cell_type": "markdown",
   "metadata": {
    "pycharm": {
     "name": "#%% md\n"
    }
   },
   "source": [
    "### Step 8. Shift the stock column into the index (making it a multi-level index consisting of the ticker symbol and the date)."
   ]
  },
  {
   "cell_type": "code",
   "execution_count": 38,
   "metadata": {
    "pycharm": {
     "name": "#%%\n"
    }
   },
   "outputs": [
    {
     "data": {
      "text/html": [
       "<div>\n",
       "<style scoped>\n",
       "    .dataframe tbody tr th:only-of-type {\n",
       "        vertical-align: middle;\n",
       "    }\n",
       "\n",
       "    .dataframe tbody tr th {\n",
       "        vertical-align: top;\n",
       "    }\n",
       "\n",
       "    .dataframe thead th {\n",
       "        text-align: right;\n",
       "    }\n",
       "</style>\n",
       "<table border=\"1\" class=\"dataframe\">\n",
       "  <thead>\n",
       "    <tr style=\"text-align: right;\">\n",
       "      <th></th>\n",
       "      <th></th>\n",
       "      <th>Open</th>\n",
       "      <th>High</th>\n",
       "      <th>Low</th>\n",
       "      <th>Close</th>\n",
       "      <th>Adj Close</th>\n",
       "      <th>Volume</th>\n",
       "    </tr>\n",
       "    <tr>\n",
       "      <th>Date</th>\n",
       "      <th>stock</th>\n",
       "      <th></th>\n",
       "      <th></th>\n",
       "      <th></th>\n",
       "      <th></th>\n",
       "      <th></th>\n",
       "      <th></th>\n",
       "    </tr>\n",
       "  </thead>\n",
       "  <tbody>\n",
       "    <tr>\n",
       "      <th>2015-01-02</th>\n",
       "      <th>AAPL</th>\n",
       "      <td>27.847500</td>\n",
       "      <td>27.860001</td>\n",
       "      <td>26.837500</td>\n",
       "      <td>27.332500</td>\n",
       "      <td>24.402172</td>\n",
       "      <td>212818400</td>\n",
       "    </tr>\n",
       "    <tr>\n",
       "      <th>2015-01-05</th>\n",
       "      <th>AAPL</th>\n",
       "      <td>27.072500</td>\n",
       "      <td>27.162500</td>\n",
       "      <td>26.352501</td>\n",
       "      <td>26.562500</td>\n",
       "      <td>23.714724</td>\n",
       "      <td>257142000</td>\n",
       "    </tr>\n",
       "    <tr>\n",
       "      <th>2015-01-06</th>\n",
       "      <th>AAPL</th>\n",
       "      <td>26.635000</td>\n",
       "      <td>26.857500</td>\n",
       "      <td>26.157499</td>\n",
       "      <td>26.565001</td>\n",
       "      <td>23.716957</td>\n",
       "      <td>263188400</td>\n",
       "    </tr>\n",
       "    <tr>\n",
       "      <th>2015-01-07</th>\n",
       "      <th>AAPL</th>\n",
       "      <td>26.799999</td>\n",
       "      <td>27.049999</td>\n",
       "      <td>26.674999</td>\n",
       "      <td>26.937500</td>\n",
       "      <td>24.049519</td>\n",
       "      <td>160423600</td>\n",
       "    </tr>\n",
       "    <tr>\n",
       "      <th>2015-01-08</th>\n",
       "      <th>AAPL</th>\n",
       "      <td>27.307501</td>\n",
       "      <td>28.037500</td>\n",
       "      <td>27.174999</td>\n",
       "      <td>27.972500</td>\n",
       "      <td>24.973558</td>\n",
       "      <td>237458000</td>\n",
       "    </tr>\n",
       "    <tr>\n",
       "      <th>...</th>\n",
       "      <th>...</th>\n",
       "      <td>...</td>\n",
       "      <td>...</td>\n",
       "      <td>...</td>\n",
       "      <td>...</td>\n",
       "      <td>...</td>\n",
       "      <td>...</td>\n",
       "    </tr>\n",
       "    <tr>\n",
       "      <th>2024-05-09</th>\n",
       "      <th>MSFT</th>\n",
       "      <td>410.570007</td>\n",
       "      <td>412.720001</td>\n",
       "      <td>409.100006</td>\n",
       "      <td>412.320007</td>\n",
       "      <td>412.320007</td>\n",
       "      <td>14689700</td>\n",
       "    </tr>\n",
       "    <tr>\n",
       "      <th>2024-05-10</th>\n",
       "      <th>MSFT</th>\n",
       "      <td>412.940002</td>\n",
       "      <td>415.380005</td>\n",
       "      <td>411.799988</td>\n",
       "      <td>414.739990</td>\n",
       "      <td>414.739990</td>\n",
       "      <td>13402300</td>\n",
       "    </tr>\n",
       "    <tr>\n",
       "      <th>2024-05-13</th>\n",
       "      <th>MSFT</th>\n",
       "      <td>418.010010</td>\n",
       "      <td>418.350006</td>\n",
       "      <td>410.820007</td>\n",
       "      <td>413.720001</td>\n",
       "      <td>413.720001</td>\n",
       "      <td>15440200</td>\n",
       "    </tr>\n",
       "    <tr>\n",
       "      <th>2024-05-14</th>\n",
       "      <th>MSFT</th>\n",
       "      <td>412.019989</td>\n",
       "      <td>417.489990</td>\n",
       "      <td>411.549988</td>\n",
       "      <td>416.559998</td>\n",
       "      <td>416.559998</td>\n",
       "      <td>15042700</td>\n",
       "    </tr>\n",
       "    <tr>\n",
       "      <th>2024-05-15</th>\n",
       "      <th>MSFT</th>\n",
       "      <td>417.899994</td>\n",
       "      <td>422.084991</td>\n",
       "      <td>417.269989</td>\n",
       "      <td>421.619995</td>\n",
       "      <td>421.619995</td>\n",
       "      <td>7250833</td>\n",
       "    </tr>\n",
       "  </tbody>\n",
       "</table>\n",
       "<p>9432 rows × 6 columns</p>\n",
       "</div>"
      ],
      "text/plain": [
       "                        Open        High         Low       Close   Adj Close  \\\n",
       "Date       stock                                                               \n",
       "2015-01-02 AAPL    27.847500   27.860001   26.837500   27.332500   24.402172   \n",
       "2015-01-05 AAPL    27.072500   27.162500   26.352501   26.562500   23.714724   \n",
       "2015-01-06 AAPL    26.635000   26.857500   26.157499   26.565001   23.716957   \n",
       "2015-01-07 AAPL    26.799999   27.049999   26.674999   26.937500   24.049519   \n",
       "2015-01-08 AAPL    27.307501   28.037500   27.174999   27.972500   24.973558   \n",
       "...                      ...         ...         ...         ...         ...   \n",
       "2024-05-09 MSFT   410.570007  412.720001  409.100006  412.320007  412.320007   \n",
       "2024-05-10 MSFT   412.940002  415.380005  411.799988  414.739990  414.739990   \n",
       "2024-05-13 MSFT   418.010010  418.350006  410.820007  413.720001  413.720001   \n",
       "2024-05-14 MSFT   412.019989  417.489990  411.549988  416.559998  416.559998   \n",
       "2024-05-15 MSFT   417.899994  422.084991  417.269989  421.619995  421.619995   \n",
       "\n",
       "                     Volume  \n",
       "Date       stock             \n",
       "2015-01-02 AAPL   212818400  \n",
       "2015-01-05 AAPL   257142000  \n",
       "2015-01-06 AAPL   263188400  \n",
       "2015-01-07 AAPL   160423600  \n",
       "2015-01-08 AAPL   237458000  \n",
       "...                     ...  \n",
       "2024-05-09 MSFT    14689700  \n",
       "2024-05-10 MSFT    13402300  \n",
       "2024-05-13 MSFT    15440200  \n",
       "2024-05-14 MSFT    15042700  \n",
       "2024-05-15 MSFT     7250833  \n",
       "\n",
       "[9432 rows x 6 columns]"
      ]
     },
     "execution_count": 38,
     "metadata": {},
     "output_type": "execute_result"
    }
   ],
   "source": [
    "df['Date'] = df.index\n",
    "df = df.set_index(['Date','stock'],drop=True)\n",
    "df"
   ]
  },
  {
   "cell_type": "markdown",
   "metadata": {
    "pycharm": {
     "name": "#%% md\n"
    }
   },
   "source": [
    "### Step 7. Create a dataFrame called vol, with the volume values."
   ]
  },
  {
   "cell_type": "code",
   "execution_count": 43,
   "metadata": {
    "pycharm": {
     "name": "#%%\n"
    }
   },
   "outputs": [
    {
     "data": {
      "text/plain": [
       "Date        stock\n",
       "2015-01-02  AAPL     212818400\n",
       "2015-01-05  AAPL     257142000\n",
       "2015-01-06  AAPL     263188400\n",
       "2015-01-07  AAPL     160423600\n",
       "2015-01-08  AAPL     237458000\n",
       "                       ...    \n",
       "2024-05-09  MSFT      14689700\n",
       "2024-05-10  MSFT      13402300\n",
       "2024-05-13  MSFT      15440200\n",
       "2024-05-14  MSFT      15042700\n",
       "2024-05-15  MSFT       7250833\n",
       "Name: Volume, Length: 9432, dtype: int64"
      ]
     },
     "execution_count": 43,
     "metadata": {},
     "output_type": "execute_result"
    }
   ],
   "source": [
    "vol = df['Volume']\n",
    "vol"
   ]
  },
  {
   "cell_type": "markdown",
   "metadata": {
    "pycharm": {
     "name": "#%% md\n"
    }
   },
   "source": [
    "### Step 8. Aggregate the data of volume to weekly.\n",
    "Hint: Be careful to not sum data from the same week of 2015 and other years."
   ]
  },
  {
   "cell_type": "code",
   "execution_count": 44,
   "metadata": {},
   "outputs": [
    {
     "data": {
      "text/html": [
       "<div>\n",
       "<style scoped>\n",
       "    .dataframe tbody tr th:only-of-type {\n",
       "        vertical-align: middle;\n",
       "    }\n",
       "\n",
       "    .dataframe tbody tr th {\n",
       "        vertical-align: top;\n",
       "    }\n",
       "\n",
       "    .dataframe thead th {\n",
       "        text-align: right;\n",
       "    }\n",
       "</style>\n",
       "<table border=\"1\" class=\"dataframe\">\n",
       "  <thead>\n",
       "    <tr style=\"text-align: right;\">\n",
       "      <th>stock</th>\n",
       "      <th>AAPL</th>\n",
       "      <th>IBM</th>\n",
       "      <th>MSFT</th>\n",
       "      <th>TSLA</th>\n",
       "    </tr>\n",
       "    <tr>\n",
       "      <th>Date</th>\n",
       "      <th></th>\n",
       "      <th></th>\n",
       "      <th></th>\n",
       "      <th></th>\n",
       "    </tr>\n",
       "  </thead>\n",
       "  <tbody>\n",
       "    <tr>\n",
       "      <th>2015-01-04</th>\n",
       "      <td>2.128184e+08</td>\n",
       "      <td>5.779673e+06</td>\n",
       "      <td>27913900.0</td>\n",
       "      <td>7.146600e+07</td>\n",
       "    </tr>\n",
       "    <tr>\n",
       "      <th>2015-01-11</th>\n",
       "      <td>2.266020e+08</td>\n",
       "      <td>5.115777e+06</td>\n",
       "      <td>31765060.0</td>\n",
       "      <td>6.812880e+07</td>\n",
       "    </tr>\n",
       "    <tr>\n",
       "      <th>2015-01-18</th>\n",
       "      <td>2.433813e+08</td>\n",
       "      <td>4.865950e+06</td>\n",
       "      <td>31417640.0</td>\n",
       "      <td>9.239760e+07</td>\n",
       "    </tr>\n",
       "    <tr>\n",
       "      <th>2015-01-25</th>\n",
       "      <td>1.987370e+08</td>\n",
       "      <td>8.170516e+06</td>\n",
       "      <td>34338150.0</td>\n",
       "      <td>6.079388e+07</td>\n",
       "    </tr>\n",
       "    <tr>\n",
       "      <th>2015-02-01</th>\n",
       "      <td>3.726742e+08</td>\n",
       "      <td>6.888538e+06</td>\n",
       "      <td>87557360.0</td>\n",
       "      <td>4.716060e+07</td>\n",
       "    </tr>\n",
       "    <tr>\n",
       "      <th>...</th>\n",
       "      <td>...</td>\n",
       "      <td>...</td>\n",
       "      <td>...</td>\n",
       "      <td>...</td>\n",
       "    </tr>\n",
       "    <tr>\n",
       "      <th>2024-04-21</th>\n",
       "      <td>6.180784e+07</td>\n",
       "      <td>3.385820e+06</td>\n",
       "      <td>20840200.0</td>\n",
       "      <td>9.235778e+07</td>\n",
       "    </tr>\n",
       "    <tr>\n",
       "      <th>2024-04-28</th>\n",
       "      <td>4.826054e+07</td>\n",
       "      <td>8.465860e+06</td>\n",
       "      <td>24273580.0</td>\n",
       "      <td>1.298128e+08</td>\n",
       "    </tr>\n",
       "    <tr>\n",
       "      <th>2024-05-05</th>\n",
       "      <td>8.838526e+07</td>\n",
       "      <td>4.502800e+06</td>\n",
       "      <td>21416420.0</td>\n",
       "      <td>1.256741e+08</td>\n",
       "    </tr>\n",
       "    <tr>\n",
       "      <th>2024-05-12</th>\n",
       "      <td>6.013502e+07</td>\n",
       "      <td>3.484320e+06</td>\n",
       "      <td>15379820.0</td>\n",
       "      <td>7.559664e+07</td>\n",
       "    </tr>\n",
       "    <tr>\n",
       "      <th>2024-05-19</th>\n",
       "      <td>5.084925e+07</td>\n",
       "      <td>2.136893e+06</td>\n",
       "      <td>12577911.0</td>\n",
       "      <td>6.777465e+07</td>\n",
       "    </tr>\n",
       "  </tbody>\n",
       "</table>\n",
       "<p>490 rows × 4 columns</p>\n",
       "</div>"
      ],
      "text/plain": [
       "stock               AAPL           IBM        MSFT          TSLA\n",
       "Date                                                            \n",
       "2015-01-04  2.128184e+08  5.779673e+06  27913900.0  7.146600e+07\n",
       "2015-01-11  2.266020e+08  5.115777e+06  31765060.0  6.812880e+07\n",
       "2015-01-18  2.433813e+08  4.865950e+06  31417640.0  9.239760e+07\n",
       "2015-01-25  1.987370e+08  8.170516e+06  34338150.0  6.079388e+07\n",
       "2015-02-01  3.726742e+08  6.888538e+06  87557360.0  4.716060e+07\n",
       "...                  ...           ...         ...           ...\n",
       "2024-04-21  6.180784e+07  3.385820e+06  20840200.0  9.235778e+07\n",
       "2024-04-28  4.826054e+07  8.465860e+06  24273580.0  1.298128e+08\n",
       "2024-05-05  8.838526e+07  4.502800e+06  21416420.0  1.256741e+08\n",
       "2024-05-12  6.013502e+07  3.484320e+06  15379820.0  7.559664e+07\n",
       "2024-05-19  5.084925e+07  2.136893e+06  12577911.0  6.777465e+07\n",
       "\n",
       "[490 rows x 4 columns]"
      ]
     },
     "execution_count": 44,
     "metadata": {},
     "output_type": "execute_result"
    }
   ],
   "source": [
    "vol.unstack().resample('W').mean()"
   ]
  },
  {
   "cell_type": "code",
   "execution_count": 30,
   "metadata": {
    "pycharm": {
     "name": "#%%\n"
    }
   },
   "outputs": [
    {
     "data": {
      "text/html": [
       "<div>\n",
       "<style scoped>\n",
       "    .dataframe tbody tr th:only-of-type {\n",
       "        vertical-align: middle;\n",
       "    }\n",
       "\n",
       "    .dataframe tbody tr th {\n",
       "        vertical-align: top;\n",
       "    }\n",
       "\n",
       "    .dataframe thead th {\n",
       "        text-align: right;\n",
       "    }\n",
       "</style>\n",
       "<table border=\"1\" class=\"dataframe\">\n",
       "  <thead>\n",
       "    <tr style=\"text-align: right;\">\n",
       "      <th>stock</th>\n",
       "      <th>AAPL</th>\n",
       "      <th>IBM</th>\n",
       "      <th>MSFT</th>\n",
       "      <th>TSLA</th>\n",
       "      <th>year</th>\n",
       "      <th>Week</th>\n",
       "    </tr>\n",
       "    <tr>\n",
       "      <th>Date</th>\n",
       "      <th></th>\n",
       "      <th></th>\n",
       "      <th></th>\n",
       "      <th></th>\n",
       "      <th></th>\n",
       "      <th></th>\n",
       "    </tr>\n",
       "  </thead>\n",
       "  <tbody>\n",
       "    <tr>\n",
       "      <th>2015-01-04</th>\n",
       "      <td>212818400</td>\n",
       "      <td>5779673</td>\n",
       "      <td>27913900</td>\n",
       "      <td>71466000</td>\n",
       "      <td>2015</td>\n",
       "      <td>6</td>\n",
       "    </tr>\n",
       "    <tr>\n",
       "      <th>2015-01-11</th>\n",
       "      <td>1133010000</td>\n",
       "      <td>25578884</td>\n",
       "      <td>158825300</td>\n",
       "      <td>340644000</td>\n",
       "      <td>2015</td>\n",
       "      <td>6</td>\n",
       "    </tr>\n",
       "    <tr>\n",
       "      <th>2015-01-18</th>\n",
       "      <td>1216906400</td>\n",
       "      <td>24329751</td>\n",
       "      <td>157088200</td>\n",
       "      <td>461988000</td>\n",
       "      <td>2015</td>\n",
       "      <td>6</td>\n",
       "    </tr>\n",
       "    <tr>\n",
       "      <th>2015-01-25</th>\n",
       "      <td>794948000</td>\n",
       "      <td>32682062</td>\n",
       "      <td>137352600</td>\n",
       "      <td>243175500</td>\n",
       "      <td>2015</td>\n",
       "      <td>6</td>\n",
       "    </tr>\n",
       "    <tr>\n",
       "      <th>2015-02-01</th>\n",
       "      <td>1863370800</td>\n",
       "      <td>34442689</td>\n",
       "      <td>437786800</td>\n",
       "      <td>235803000</td>\n",
       "      <td>2015</td>\n",
       "      <td>6</td>\n",
       "    </tr>\n",
       "    <tr>\n",
       "      <th>...</th>\n",
       "      <td>...</td>\n",
       "      <td>...</td>\n",
       "      <td>...</td>\n",
       "      <td>...</td>\n",
       "      <td>...</td>\n",
       "      <td>...</td>\n",
       "    </tr>\n",
       "    <tr>\n",
       "      <th>2024-04-21</th>\n",
       "      <td>309039200</td>\n",
       "      <td>16929100</td>\n",
       "      <td>104201000</td>\n",
       "      <td>461788900</td>\n",
       "      <td>2024</td>\n",
       "      <td>6</td>\n",
       "    </tr>\n",
       "    <tr>\n",
       "      <th>2024-04-28</th>\n",
       "      <td>241302700</td>\n",
       "      <td>42329300</td>\n",
       "      <td>121367900</td>\n",
       "      <td>649063900</td>\n",
       "      <td>2024</td>\n",
       "      <td>6</td>\n",
       "    </tr>\n",
       "    <tr>\n",
       "      <th>2024-05-05</th>\n",
       "      <td>441926300</td>\n",
       "      <td>22514000</td>\n",
       "      <td>107082100</td>\n",
       "      <td>628370700</td>\n",
       "      <td>2024</td>\n",
       "      <td>6</td>\n",
       "    </tr>\n",
       "    <tr>\n",
       "      <th>2024-05-12</th>\n",
       "      <td>300675100</td>\n",
       "      <td>17421600</td>\n",
       "      <td>76899100</td>\n",
       "      <td>377983200</td>\n",
       "      <td>2024</td>\n",
       "      <td>6</td>\n",
       "    </tr>\n",
       "    <tr>\n",
       "      <th>2024-05-19</th>\n",
       "      <td>152547761</td>\n",
       "      <td>6410680</td>\n",
       "      <td>37733733</td>\n",
       "      <td>203323960</td>\n",
       "      <td>2024</td>\n",
       "      <td>6</td>\n",
       "    </tr>\n",
       "  </tbody>\n",
       "</table>\n",
       "<p>490 rows × 6 columns</p>\n",
       "</div>"
      ],
      "text/plain": [
       "stock             AAPL       IBM       MSFT       TSLA  year  Week\n",
       "Date                                                              \n",
       "2015-01-04   212818400   5779673   27913900   71466000  2015     6\n",
       "2015-01-11  1133010000  25578884  158825300  340644000  2015     6\n",
       "2015-01-18  1216906400  24329751  157088200  461988000  2015     6\n",
       "2015-01-25   794948000  32682062  137352600  243175500  2015     6\n",
       "2015-02-01  1863370800  34442689  437786800  235803000  2015     6\n",
       "...                ...       ...        ...        ...   ...   ...\n",
       "2024-04-21   309039200  16929100  104201000  461788900  2024     6\n",
       "2024-04-28   241302700  42329300  121367900  649063900  2024     6\n",
       "2024-05-05   441926300  22514000  107082100  628370700  2024     6\n",
       "2024-05-12   300675100  17421600   76899100  377983200  2024     6\n",
       "2024-05-19   152547761   6410680   37733733  203323960  2024     6\n",
       "\n",
       "[490 rows x 6 columns]"
      ]
     },
     "execution_count": 30,
     "metadata": {},
     "output_type": "execute_result"
    }
   ],
   "source": [
    "# vol = vol.unstack().resample('W').sum()\n",
    "# vol['year'] = vol.index.year\n",
    "# vol['Week'] = vol.index.weekday\n",
    "# vol.set_index(['year','Week'])\n",
    "vol"
   ]
  },
  {
   "cell_type": "markdown",
   "metadata": {
    "pycharm": {
     "name": "#%% md\n"
    }
   },
   "source": [
    "### Step 9. Find all the volume traded in the year of 2015"
   ]
  },
  {
   "cell_type": "code",
   "execution_count": null,
   "metadata": {},
   "outputs": [],
   "source": []
  }
 ],
 "metadata": {
  "kernelspec": {
   "display_name": "Python 3",
   "language": "python",
   "name": "python3"
  },
  "language_info": {
   "codemirror_mode": {
    "name": "ipython",
    "version": 3
   },
   "file_extension": ".py",
   "mimetype": "text/x-python",
   "name": "python",
   "nbconvert_exporter": "python",
   "pygments_lexer": "ipython3",
   "version": "3.9.19"
  }
 },
 "nbformat": 4,
 "nbformat_minor": 1
}
