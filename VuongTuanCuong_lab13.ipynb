{
  "cells": [
    {
      "cell_type": "markdown",
      "metadata": {
        "id": "u-nAaxrr5FXz"
      },
      "source": [
        "# 1.Tokenization"
      ]
    },
    {
      "cell_type": "markdown",
      "metadata": {
        "id": "0XdV_aTO5GE5"
      },
      "source": [
        "## 1.1.White space\n"
      ]
    },
    {
      "cell_type": "code",
      "execution_count": 1,
      "metadata": {
        "colab": {
          "base_uri": "https://localhost:8080/"
        },
        "id": "MUIRAmSP5drD",
        "outputId": "56d48167-aaec-4fbd-8c10-281e3fe2599b"
      },
      "outputs": [
        {
          "name": "stdout",
          "output_type": "stream",
          "text": [
            "['Amazone', 'is', 'one', 'of', 'the', 'best', 'website', 'in', 'the', 'world', '.']\n"
          ]
        }
      ],
      "source": [
        "# import WhitespaceTokenizer() method from nltk\n",
        "from nltk.tokenize import WhitespaceTokenizer\n",
        "\n",
        "# Create a reference variable for Class WhitespaceTokenizer\n",
        "tk = WhitespaceTokenizer()\n",
        "\n",
        "# Create a string input\n",
        "gfg = \"Amazone \\nis\\t one of the    best \\t\\t website in the world\\n.\"\n",
        "\n",
        "# Use tokenize method\n",
        "out = tk.tokenize(gfg)\n",
        "\n",
        "print(out)\n"
      ]
    },
    {
      "cell_type": "code",
      "execution_count": 2,
      "metadata": {
        "colab": {
          "base_uri": "https://localhost:8080/"
        },
        "id": "ZmzEQ0q65_Pm",
        "outputId": "7abc4d18-ecdb-4539-e364-f7f2afdb2a0e"
      },
      "outputs": [
        {
          "name": "stdout",
          "output_type": "stream",
          "text": [
            "['The', 'price', 'of', 'burger', 'in', 'Burger', 'King', 'is', 'Rs.36.']\n"
          ]
        }
      ],
      "source": [
        "# Create a string input\n",
        "gfg = \"The price\\t of burger \\nin Burger King is Rs.36.\\n\"\n",
        "\n",
        "# Use tokenize method\n",
        "print(tk.tokenize(gfg))"
      ]
    },
    {
      "cell_type": "markdown",
      "metadata": {
        "id": "7YR3k2mv6Kb6"
      },
      "source": [
        "Ưu điểm: loại bỏ được tab, line break.\n",
        "\n",
        "Nhưng có thể Burger-King nên được gộp thành 1 token thì sao?"
      ]
    },
    {
      "cell_type": "markdown",
      "metadata": {
        "id": "_KVt-N1T6R4q"
      },
      "source": [
        "## 1.2.Rule-based (RegEx)\n",
        "\n"
      ]
    },
    {
      "cell_type": "code",
      "execution_count": 3,
      "metadata": {
        "colab": {
          "base_uri": "https://localhost:8080/"
        },
        "id": "N2fw-wD-6eoh",
        "outputId": "76315551-049e-4d8d-f669-e3a1d2291328"
      },
      "outputs": [
        {
          "name": "stdout",
          "output_type": "stream",
          "text": [
            "['The', 'quick', 'brown', 'fox', 'jumps', 'over', 'the', 'lazy', 'dog.']\n"
          ]
        }
      ],
      "source": [
        "# 1st way\n",
        "text = \"The quick brown fox jumps over the lazy dog.\"\n",
        "tokens = text.split()\n",
        "print(tokens)"
      ]
    },
    {
      "cell_type": "code",
      "execution_count": 4,
      "metadata": {
        "colab": {
          "base_uri": "https://localhost:8080/"
        },
        "id": "U9yBbTso6k9p",
        "outputId": "ee3a18dc-7233-411a-8396-151869662f6d"
      },
      "outputs": [
        {
          "name": "stdout",
          "output_type": "stream",
          "text": [
            "Company Name: Big-Four-Company\n",
            "Email address: pawangunjan23@netflix.com\n"
          ]
        }
      ],
      "source": [
        "# 2nd way\n",
        "\n",
        "import re\n",
        "text = \"Hello, I am working at Big-Four-Company and my email is pawangunjan23@netflix.com.\"\n",
        "\n",
        "#Define the regular expression pattern\n",
        "p='([\\w]+-[\\w]+-[\\w]+)|([\\w\\.-]+@[\\w]+.[\\w]+)'\n",
        "\n",
        "# Find matches\n",
        "matches = re.findall(p, text)\n",
        "# print output\n",
        "for match in matches:\n",
        "\tif match[0]:\n",
        "\t\tprint(f\"Company Name: {match[0]}\")\n",
        "\telse:\n",
        "\t\tprint(f\"Email address: {match[1]}\")\n"
      ]
    },
    {
      "cell_type": "code",
      "execution_count": 5,
      "metadata": {
        "colab": {
          "base_uri": "https://localhost:8080/"
        },
        "id": "0Vk51yK57H0p",
        "outputId": "c300e454-266e-4b3e-8966-e7abfefe9a0d"
      },
      "outputs": [
        {
          "name": "stdout",
          "output_type": "stream",
          "text": [
            "['Hello', 'Friend', 'How', 'can', 'I', 'help', 'you']\n"
          ]
        }
      ],
      "source": [
        "import re\n",
        "\n",
        "text = \"Hello Friend! How can I help you?\"\n",
        "\n",
        "# Define the regular expression pattern matches one or more non-alphanumeric characters\n",
        "pattern = r'\\W+'\n",
        "\n",
        "# Remove the punctuation and get the resulting string\n",
        "result = re.sub(pattern, ' ', text)\n",
        "\n",
        "# tokenize\n",
        "tokens = re.findall(r'\\b\\w+\\b|[^\\w\\s]', result)\n",
        "\n",
        "# Print the result\n",
        "print(tokens)\n"
      ]
    },
    {
      "cell_type": "markdown",
      "metadata": {
        "id": "ST4iRJiZ6R7S"
      },
      "source": [
        "Ưu điểm: Tốt hơn white space, nhưng khó viết code hơn vì nó phức tạp.\n",
        "\n",
        "Ngoài ra thì với những trường hợp khó viết như https, email thì sẽ khó lấy."
      ]
    },
    {
      "cell_type": "code",
      "execution_count": 6,
      "metadata": {
        "colab": {
          "base_uri": "https://localhost:8080/"
        },
        "id": "t9NtwOGC6J3h",
        "outputId": "5c527a07-5c02-4098-945f-16dda574083b"
      },
      "outputs": [
        {
          "name": "stdout",
          "output_type": "stream",
          "text": [
            " Word Tokenize :\n",
            " ['Natural', 'language', 'processing', 'NLP', 'is', 'a', 'field', 'of', 'computer', 'science', 'artificial', 'intelligence', 'and', 'computational', 'linguistics', 'concerned', 'with', 'the', 'interactions', 'between', 'computers', 'and', 'human', 'natural', 'languages', 'and', 'in', 'particular', 'concerned', 'with', 'programming', 'computers', 'to', 'fruitfully', 'process', 'large', 'natural', 'language', 'corpora', 'Challenges', 'in', 'natural', 'language', 'processing', 'frequently', 'involve', 'natural', 'language', 'understanding', 'natural', 'languagegeneration', 'frequently', 'from', 'formal', 'machine-readable', 'logical', 'forms', 'connecting', 'language', 'and', 'machine', 'perception', 'managing', 'human-computer', 'dialog', 'systems', 'or', 'some', 'combination', 'thereof']\n",
            "\n",
            " Sentence Tokenize :\n",
            " [Sentence(\"Natural language processing (NLP) is a field of computer science, artificial intelligence and computational linguistics concerned with the interactions between computers and human (natural) languages, and, in particular, concerned with programming computers to fruitfully process large natural language corpora.\"), Sentence(\"Challenges in natural language processing frequently involve natural language understanding, natural languagegeneration frequently from formal, machine-readable logical forms), connecting language and machine perception, managing human-computer dialog systems, or some combination thereof.\")]\n"
          ]
        }
      ],
      "source": [
        "# from textblob lib. import TextBlob method\n",
        "from textblob import TextBlob\n",
        "\n",
        "text = (\"Natural language processing (NLP) is a field \" +\n",
        "\t\"of computer science, artificial intelligence \" +\n",
        "\t\"and computational linguistics concerned with \" +\n",
        "\t\"the interactions between computers and human \" +\n",
        "\t\"(natural) languages, and, in particular, \" +\n",
        "\t\"concerned with programming computers to \" +\n",
        "\t\"fruitfully process large natural language \" +\n",
        "\t\"corpora. Challenges in natural language \" +\n",
        "\t\"processing frequently involve natural \" +\n",
        "\t\"language understanding, natural language\" +\n",
        "\t\"generation frequently from formal, machine\" +\n",
        "\t\"-readable logical forms), connecting language \" +\n",
        "\t\"and machine perception, managing human-\" +\n",
        "\t\"computer dialog systems, or some combination \" +\n",
        "\t\"thereof.\")\n",
        "\n",
        "# create a TextBlob object\n",
        "blob_object = TextBlob(text)\n",
        "\n",
        "# tokenize paragraph into words.\n",
        "print(\" Word Tokenize :\\n\", blob_object.words)\n",
        "\n",
        "# tokenize paragraph into sentences.\n",
        "print(\"\\n Sentence Tokenize :\\n\", blob_object.sentences)\n"
      ]
    },
    {
      "cell_type": "code",
      "execution_count": 7,
      "metadata": {
        "colab": {
          "base_uri": "https://localhost:8080/"
        },
        "id": "5CqjAFmU9TYJ",
        "outputId": "6e4b913f-1301-4edf-8362-8271f8af93f9"
      },
      "outputs": [
        {
          "name": "stdout",
          "output_type": "stream",
          "text": [
            "Machine\n",
            "learning\n",
            "(\n",
            "ML\n",
            ")\n",
            "is\n",
            "a\n",
            "field\n",
            "of\n",
            "study\n",
            "in\n",
            "artificial\n",
            "intelligence\n",
            "concerned\n",
            "with\n",
            "the\n",
            "development\n",
            "\n",
            "\n",
            "and\n",
            "study\n",
            "of\n",
            "statistical\n",
            "algorithms\n",
            "that\n",
            "can\n",
            "learn\n",
            "from\n",
            "data\n",
            "and\n",
            "generalize\n",
            "to\n",
            "unseen\n",
            "data\n",
            ",\n",
            "and\n",
            "thus\n",
            "perform\n",
            "\n",
            "\n",
            "tasks\n",
            "without\n",
            "explicit\n",
            "instructions.[1\n",
            "]\n"
          ]
        }
      ],
      "source": [
        "# First we need to import spacy\n",
        "import spacy\n",
        "\n",
        "text = \"\"\"Machine learning (ML) is a field of study in artificial intelligence concerned with the development\n",
        "and study of statistical algorithms that can learn from data and generalize to unseen data, and thus perform\n",
        "tasks without explicit instructions.[1]\"\"\"\n",
        "\n",
        "# Creating blank language object then tokenizing words of the sentence\n",
        "nlp = spacy.blank(\"en\")\n",
        "\n",
        "doc = nlp(text)\n",
        "\n",
        "for token in doc:\n",
        "\tprint(token)\n"
      ]
    },
    {
      "cell_type": "code",
      "execution_count": 8,
      "metadata": {
        "colab": {
          "base_uri": "https://localhost:8080/"
        },
        "id": "-YyRhE-j-cf5",
        "outputId": "24012ffb-5d9b-4dcf-cfe6-16df4aac0be9"
      },
      "outputs": [
        {
          "name": "stdout",
          "output_type": "stream",
          "text": [
            "General Word Tokenization \n",
            " ['Jammu', 'Kashmir', 'is', 'an', 'integral', 'part', 'of', 'India', '.', 'My', 'name', 'is', 'Pawan', 'Kumar', 'Gunjan', '.', 'He', 'is', 'from', 'Himachal', 'Pradesh', '.']\n",
            "Dictionary based tokenization \n",
            " ['Jammu Kashmir', 'is', 'an', 'integral', 'part', 'of', 'India', '.', 'My', 'name', 'is', 'Pawan Kumar Gunjan', '.', 'He', 'is', 'from', 'Himachal Pradesh', '.']\n"
          ]
        }
      ],
      "source": [
        "# import the necessary libraries\n",
        "from nltk import word_tokenize\n",
        "from nltk.tokenize import MWETokenizer\n",
        "\n",
        "# customn dictionary\n",
        "dictionary = [(\"Jammu\", \"Kashmir\"),\n",
        "\t\t\t(\"Pawan\", \"Kumar\", \"Gunjan\"),\n",
        "\t\t\t(\"Himachal\", \"Pradesh\")]\n",
        "\n",
        "# Create an instance of MWETokenizer with the dictionary\n",
        "dicter = MWETokenizer(dictionary, separator=' ')\n",
        "\n",
        "# Text\n",
        "text = \"\"\"\n",
        "Jammu Kashmir is an integral part of India.\n",
        "My name is Pawan Kumar Gunjan.\n",
        "He is from Himachal Pradesh.\n",
        "\"\"\"\n",
        "\n",
        "tokens = word_tokenize(text)\n",
        "print('General Word Tokenization \\n',tokens)\n",
        "\n",
        "dict_tokens =dicter.tokenize(tokens)\n",
        "print('Dictionary based tokenization \\n', dict_tokens)\n"
      ]
    },
    {
      "cell_type": "code",
      "execution_count": 9,
      "metadata": {
        "colab": {
          "base_uri": "https://localhost:8080/"
        },
        "id": "GQp3m41c_2VY",
        "outputId": "bba7a94b-f69a-44bb-976c-c9655d3392b9"
      },
      "outputs": [
        {
          "name": "stdout",
          "output_type": "stream",
          "text": [
            "['Machine learning (ML) is a field of study in artificial intelligence concerned with the development\\nand study of statistical algorithms that can learn from data and generalize to unseen data, and thus perform\\ntasks without explicit instructions.', '[1]']\n",
            "['Machine', 'learning', '(', 'ML', ')', 'is', 'a', 'field', 'of', 'study', 'in', 'artificial', 'intelligence', 'concerned', 'with', 'the', 'development', 'and', 'study', 'of', 'statistical', 'algorithms', 'that', 'can', 'learn', 'from', 'data', 'and', 'generalize', 'to', 'unseen', 'data', ',', 'and', 'thus', 'perform', 'tasks', 'without', 'explicit', 'instructions', '.', '[', '1', ']']\n"
          ]
        }
      ],
      "source": [
        "# import the existing word and sentence tokenizing libraries\n",
        "from nltk.tokenize import sent_tokenize, word_tokenize\n",
        "\n",
        "text = \"\"\"Machine learning (ML) is a field of study in artificial intelligence concerned with the development\n",
        "and study of statistical algorithms that can learn from data and generalize to unseen data, and thus perform\n",
        "tasks without explicit instructions.[1]\"\"\"\n",
        "\n",
        "print(sent_tokenize(text))\n",
        "print(word_tokenize(text))\n"
      ]
    },
    {
      "cell_type": "code",
      "execution_count": 10,
      "metadata": {
        "colab": {
          "base_uri": "https://localhost:8080/"
        },
        "id": "kWVzqSdcHV7n",
        "outputId": "b1bfd452-343b-4486-c888-a49e75a0a8e5"
      },
      "outputs": [
        {
          "name": "stdout",
          "output_type": "stream",
          "text": [
            "Original words: ['running', 'jumps', 'happily', 'running', 'happily']\n",
            "Stemmed words: ['run', 'jump', 'happili', 'run', 'happili']\n"
          ]
        }
      ],
      "source": [
        "from nltk.stem import PorterStemmer\n",
        "\n",
        "# Create a Porter Stemmer instance\n",
        "porter_stemmer = PorterStemmer()\n",
        "\n",
        "# Example words for stemming\n",
        "words = [\"running\", \"jumps\", \"happily\", \"running\", \"happily\"]\n",
        "\n",
        "# Apply stemming to each word\n",
        "stemmed_words = [porter_stemmer.stem(word) for word in words]\n",
        "\n",
        "# Print the results\n",
        "print(\"Original words:\", words)\n",
        "print(\"Stemmed words:\", stemmed_words)\n"
      ]
    },
    {
      "cell_type": "code",
      "execution_count": 11,
      "metadata": {
        "colab": {
          "base_uri": "https://localhost:8080/"
        },
        "id": "yzv0-TgvGE68",
        "outputId": "40208d54-ad5b-4335-fa87-6eef07b82c7f"
      },
      "outputs": [
        {
          "name": "stdout",
          "output_type": "stream",
          "text": [
            "Original words: ['running', 'jumped', 'happily', 'quickly', 'foxes']\n",
            "Stemmed words: ['run', 'jump', 'happili', 'quick', 'fox']\n"
          ]
        }
      ],
      "source": [
        "from nltk.stem import SnowballStemmer\n",
        "\n",
        "# Choose a language for stemming, for example, English\n",
        "stemmer = SnowballStemmer(language='english')\n",
        "\n",
        "# Example words to stem\n",
        "words_to_stem = ['running', 'jumped', 'happily', 'quickly', 'foxes']\n",
        "\n",
        "# Apply Snowball Stemmer\n",
        "stemmed_words = [stemmer.stem(word) for word in words_to_stem]\n",
        "\n",
        "# Print the results\n",
        "print(\"Original words:\", words_to_stem)\n",
        "print(\"Stemmed words:\", stemmed_words)\n"
      ]
    },
    {
      "cell_type": "code",
      "execution_count": 12,
      "metadata": {
        "colab": {
          "base_uri": "https://localhost:8080/"
        },
        "id": "fEWGnATuJLmE",
        "outputId": "a553fd21-8466-4575-a130-dc72509f4dba"
      },
      "outputs": [
        {
          "name": "stdout",
          "output_type": "stream",
          "text": [
            "Original words: ['running', 'jumped', 'happily', 'quickly', 'foxes']\n",
            "Stemmed words: ['run', 'jump', 'happy', 'quick', 'fox']\n"
          ]
        }
      ],
      "source": [
        "from nltk.stem import LancasterStemmer\n",
        "\n",
        "# Create a Lancaster Stemmer instance\n",
        "stemmer = LancasterStemmer()\n",
        "\n",
        "# Example words to stem\n",
        "words_to_stem = ['running', 'jumped', 'happily', 'quickly', 'foxes']\n",
        "\n",
        "# Apply Lancaster Stemmer\n",
        "stemmed_words = [stemmer.stem(word) for word in words_to_stem]\n",
        "\n",
        "# Print the results\n",
        "print(\"Original words:\", words_to_stem)\n",
        "print(\"Stemmed words:\", stemmed_words)\n"
      ]
    },
    {
      "cell_type": "code",
      "execution_count": 13,
      "metadata": {
        "colab": {
          "base_uri": "https://localhost:8080/"
        },
        "id": "weGzAECrJLq4",
        "outputId": "a46538bb-1578-49c5-bee2-ee683cb203a6"
      },
      "outputs": [
        {
          "name": "stderr",
          "output_type": "stream",
          "text": [
            "[nltk_data] Downloading package wordnet to /Users/cngvng/nltk_data...\n",
            "[nltk_data]   Package wordnet is already up-to-date!\n"
          ]
        },
        {
          "name": "stdout",
          "output_type": "stream",
          "text": [
            "kites ---> kite\n",
            "babies ---> baby\n",
            "dogs ---> dog\n",
            "flying ---> flying\n",
            "smiling ---> smiling\n",
            "driving ---> driving\n",
            "died ---> died\n",
            "tried ---> tried\n",
            "feet ---> foot\n"
          ]
        }
      ],
      "source": [
        "from nltk.stem import WordNetLemmatizer\n",
        "import nltk\n",
        "\n",
        "nltk.download('wordnet')\n",
        "\n",
        "# Create WordNetLemmatizer object\n",
        "wnl = WordNetLemmatizer()\n",
        "\n",
        "# single word lemmatization examples\n",
        "list1 = ['kites', 'babies', 'dogs', 'flying', 'smiling', 'driving', 'died', 'tried', 'feet']\n",
        "for words in list1:\n",
        "\tprint(words + \" ---> \" + wnl.lemmatize(words))"
      ]
    },
    {
      "cell_type": "code",
      "execution_count": 14,
      "metadata": {
        "colab": {
          "base_uri": "https://localhost:8080/"
        },
        "id": "gJ67QZYlAszC",
        "outputId": "88910e0e-fada-4e64-e413-1c725f754069"
      },
      "outputs": [
        {
          "name": "stdout",
          "output_type": "stream",
          "text": [
            "cat\n",
            "the bat saw the cat with stripe hanging upside down by their foot\n"
          ]
        }
      ],
      "source": [
        "from textblob import TextBlob, Word\n",
        "\n",
        "my_word = 'cats'\n",
        "\n",
        "# create a Word object\n",
        "w = Word(my_word)\n",
        "\n",
        "print(w.lemmatize())\n",
        "\n",
        "sentence = 'the bats saw the cats with stripes hanging upside down by their feet.'\n",
        "\n",
        "s = TextBlob(sentence)\n",
        "lemmatized_sentence = \" \".join([w.lemmatize() for w in s.words])\n",
        "\n",
        "print(lemmatized_sentence)"
      ]
    },
    {
      "cell_type": "code",
      "execution_count": 15,
      "metadata": {
        "colab": {
          "base_uri": "https://localhost:8080/"
        },
        "id": "TFQGgOIErS0u",
        "outputId": "36d5a991-10c4-43a9-8764-e538394456ed"
      },
      "outputs": [
        {
          "name": "stdout",
          "output_type": "stream",
          "text": [
            "['python', 'released', 'in', 'was', 'a', 'major', 'revision', 'of', 'the', 'language', 'that', 'is', 'not', 'completely', 'backward', 'compatible', 'and', 'much', 'python', 'code', 'does', 'not', 'run', 'unmodified', 'on', 'python', 'with', 'python', 's', 'endoflife', 'only', 'python', 'x', 'and', 'later', 'are', 'supported', 'with', 'older', 'versions', 'still', 'supporting', 'eg', 'windows', 'and', 'old', 'installers', 'not', 'restricted', 'to', 'bit', 'windows']\n",
            "python released major revision language completely backward compatible much python code run unmodified python python endoflife python x later supported older versions still supporting eg windows old installers restricted bit windows\n"
          ]
        },
        {
          "name": "stderr",
          "output_type": "stream",
          "text": [
            "[nltk_data] Downloading package stopwords to\n",
            "[nltk_data]     /Users/cngvng/nltk_data...\n",
            "[nltk_data]   Package stopwords is already up-to-date!\n"
          ]
        }
      ],
      "source": [
        "# import regex\n",
        "import re\n",
        "\n",
        "# download stopwords\n",
        "import nltk\n",
        "nltk.download('stopwords')\n",
        "\n",
        "# import nltk for stopwords\n",
        "from nltk.corpus import stopwords\n",
        "stop_words = set(stopwords.words('english'))\n",
        "\n",
        "# input string\n",
        "string = \"\"\"\t Python 3.0, released in 2008, was a major revision of the language that is not completely backward compatible and much\n",
        "Python 2 code does not run unmodified on Python 3. With Python 2's end-of-life, only Python 3.6.x[30] and later are supported,\n",
        "with older versions still supporting e.g. Windows 7 (and old installers not restricted to 64-bit Windows).\"\"\"\n",
        "\n",
        "# convert to lower case\n",
        "lower_string = string.lower()\n",
        "\n",
        "# remove numbers\n",
        "no_number_string = re.sub(r'\\d+','',lower_string)\n",
        "\n",
        "# remove all punctuation except words and space\n",
        "no_punc_string = re.sub(r'[^\\w\\s]','', no_number_string)\n",
        "\n",
        "# remove white spaces\n",
        "no_wspace_string = no_punc_string.strip()\n",
        "\n",
        "# convert string to list of words\n",
        "lst_string = [no_wspace_string][0].split()\n",
        "print(lst_string)\n",
        "\n",
        "# remove stopwords\n",
        "no_stpwords = [item for item in lst_string if item not in stop_words]\n",
        "no_stpwords_string = \" \".join(no_stpwords)\n",
        "\n",
        "# output\n",
        "print(no_stpwords_string)"
      ]
    },
    {
      "cell_type": "code",
      "execution_count": 16,
      "metadata": {
        "colab": {
          "base_uri": "https://localhost:8080/"
        },
        "id": "9rjegmU9vvyi",
        "outputId": "170fb589-00ac-4696-ccb3-4cde8bc8f038"
      },
      "outputs": [
        {
          "name": "stdout",
          "output_type": "stream",
          "text": [
            "{'about': 0, 'the': 4, 'bird': 1, 'you': 6, 'heard': 2, 'is': 3, 'word': 5}\n",
            "[[1 5 0 0 2 0 0]\n",
            " [1 1 1 0 1 0 1]\n",
            " [0 1 0 1 2 1 0]]\n"
          ]
        }
      ],
      "source": [
        "# Ví dụ về bag of words với scikit-learn\n",
        "from sklearn.feature_extraction.text import CountVectorizer\n",
        "\n",
        "data = [\n",
        "    \"About the bird, the bird, bird bird bird\",\n",
        "    \"You heard about the bird\",\n",
        "    \"The bird is the word\"\n",
        "]\n",
        "\n",
        "vect = CountVectorizer()\n",
        "features = vect.fit_transform(data)\n",
        "\n",
        "print(vect.vocabulary_)\n",
        "print(features.toarray())"
      ]
    },
    {
      "cell_type": "code",
      "execution_count": 17,
      "metadata": {
        "colab": {
          "base_uri": "https://localhost:8080/"
        },
        "id": "mhKDFyAev7DE",
        "outputId": "6e45166b-9c9d-4228-a48d-e3df8c4cdc56"
      },
      "outputs": [
        {
          "name": "stdout",
          "output_type": "stream",
          "text": [
            "{'about': 0, 'the': 4, 'bird': 1, 'you': 6, 'heard': 2, 'is': 3, 'word': 5}\n",
            "[[0.233 0.903 0.    0.    0.361 0.    0.   ]\n",
            " [0.42  0.326 0.552 0.    0.326 0.    0.552]\n",
            " [0.    0.305 0.    0.517 0.61  0.517 0.   ]]\n"
          ]
        }
      ],
      "source": [
        "# Ví dụ với scikit-learn\n",
        "from sklearn.feature_extraction.text import TfidfVectorizer\n",
        "\n",
        "data = [\n",
        "    \"About the bird, the bird, bird bird bird\",\n",
        "    \"You heard about the bird\",\n",
        "    \"The bird is the word\"\n",
        "]\n",
        "\n",
        "vect = TfidfVectorizer ()\n",
        "features = vect.fit_transform(data)\n",
        "\n",
        "print(vect.vocabulary_)\n",
        "print(features.toarray().round(3))"
      ]
    },
    {
      "cell_type": "markdown",
      "metadata": {
        "id": "_6kBjPqiwICL"
      },
      "source": [
        "### 1.Import thư viện"
      ]
    },
    {
      "cell_type": "code",
      "execution_count": 18,
      "metadata": {
        "id": "ZBObGaPxwIdj"
      },
      "outputs": [],
      "source": [
        "import numpy as np\n",
        "import pandas as pd\n",
        "import seaborn as sns\n",
        "import matplotlib.pyplot as plt\n",
        "from sklearn.model_selection import train_test_split\n",
        "from sklearn.tree import DecisionTreeClassifier\n",
        "from sklearn.ensemble import RandomForestClassifier\n",
        "from sklearn.metrics import accuracy_score,confusion_matrix,classification_report\n",
        "import re\n",
        "import nltk\n",
        "from nltk.corpus import stopwords\n"
      ]
    },
    {
      "cell_type": "code",
      "execution_count": 19,
      "metadata": {
        "colab": {
          "base_uri": "https://localhost:8080/"
        },
        "id": "LcqBD8iXwAGS",
        "outputId": "c5c3d684-7ca7-4f96-a588-9569848000cc"
      },
      "outputs": [
        {
          "data": {
            "text/plain": [
              "(14640, 15)"
            ]
          },
          "execution_count": 19,
          "metadata": {},
          "output_type": "execute_result"
        }
      ],
      "source": [
        "data = pd.read_csv(\"https://raw.githubusercontent.com/thieu1995/csv-files/main/data/text/tweets/Tweets.csv\")\n",
        "data.shape"
      ]
    },
    {
      "cell_type": "code",
      "execution_count": 20,
      "metadata": {
        "colab": {
          "base_uri": "https://localhost:8080/",
          "height": 452
        },
        "id": "4hAz0QBEwO6b",
        "outputId": "831b140a-c13a-4d6c-c4df-525067810f44"
      },
      "outputs": [
        {
          "data": {
            "text/html": [
              "<div>\n",
              "<style scoped>\n",
              "    .dataframe tbody tr th:only-of-type {\n",
              "        vertical-align: middle;\n",
              "    }\n",
              "\n",
              "    .dataframe tbody tr th {\n",
              "        vertical-align: top;\n",
              "    }\n",
              "\n",
              "    .dataframe thead th {\n",
              "        text-align: right;\n",
              "    }\n",
              "</style>\n",
              "<table border=\"1\" class=\"dataframe\">\n",
              "  <thead>\n",
              "    <tr style=\"text-align: right;\">\n",
              "      <th></th>\n",
              "      <th>tweet_id</th>\n",
              "      <th>airline_sentiment</th>\n",
              "      <th>airline_sentiment_confidence</th>\n",
              "      <th>negativereason</th>\n",
              "      <th>negativereason_confidence</th>\n",
              "      <th>airline</th>\n",
              "      <th>airline_sentiment_gold</th>\n",
              "      <th>name</th>\n",
              "      <th>negativereason_gold</th>\n",
              "      <th>retweet_count</th>\n",
              "      <th>text</th>\n",
              "      <th>tweet_coord</th>\n",
              "      <th>tweet_created</th>\n",
              "      <th>tweet_location</th>\n",
              "      <th>user_timezone</th>\n",
              "    </tr>\n",
              "  </thead>\n",
              "  <tbody>\n",
              "    <tr>\n",
              "      <th>0</th>\n",
              "      <td>5.703061e+17</td>\n",
              "      <td>neutral</td>\n",
              "      <td>1.0000</td>\n",
              "      <td>NaN</td>\n",
              "      <td>NaN</td>\n",
              "      <td>Virgin America</td>\n",
              "      <td>NaN</td>\n",
              "      <td>cairdin</td>\n",
              "      <td>NaN</td>\n",
              "      <td>0</td>\n",
              "      <td>@VirginAmerica What @dhepburn said.</td>\n",
              "      <td>NaN</td>\n",
              "      <td>2015-02-24 11:35:52 -0800</td>\n",
              "      <td>NaN</td>\n",
              "      <td>Eastern Time (US &amp; Canada)</td>\n",
              "    </tr>\n",
              "    <tr>\n",
              "      <th>1</th>\n",
              "      <td>5.703011e+17</td>\n",
              "      <td>positive</td>\n",
              "      <td>0.3486</td>\n",
              "      <td>NaN</td>\n",
              "      <td>0.0000</td>\n",
              "      <td>Virgin America</td>\n",
              "      <td>NaN</td>\n",
              "      <td>jnardino</td>\n",
              "      <td>NaN</td>\n",
              "      <td>0</td>\n",
              "      <td>@VirginAmerica plus you've added commercials t...</td>\n",
              "      <td>NaN</td>\n",
              "      <td>2015-02-24 11:15:59 -0800</td>\n",
              "      <td>NaN</td>\n",
              "      <td>Pacific Time (US &amp; Canada)</td>\n",
              "    </tr>\n",
              "    <tr>\n",
              "      <th>2</th>\n",
              "      <td>5.703011e+17</td>\n",
              "      <td>neutral</td>\n",
              "      <td>0.6837</td>\n",
              "      <td>NaN</td>\n",
              "      <td>NaN</td>\n",
              "      <td>Virgin America</td>\n",
              "      <td>NaN</td>\n",
              "      <td>yvonnalynn</td>\n",
              "      <td>NaN</td>\n",
              "      <td>0</td>\n",
              "      <td>@VirginAmerica I didn't today... Must mean I n...</td>\n",
              "      <td>NaN</td>\n",
              "      <td>2015-02-24 11:15:48 -0800</td>\n",
              "      <td>Lets Play</td>\n",
              "      <td>Central Time (US &amp; Canada)</td>\n",
              "    </tr>\n",
              "    <tr>\n",
              "      <th>3</th>\n",
              "      <td>5.703010e+17</td>\n",
              "      <td>negative</td>\n",
              "      <td>1.0000</td>\n",
              "      <td>Bad Flight</td>\n",
              "      <td>0.7033</td>\n",
              "      <td>Virgin America</td>\n",
              "      <td>NaN</td>\n",
              "      <td>jnardino</td>\n",
              "      <td>NaN</td>\n",
              "      <td>0</td>\n",
              "      <td>@VirginAmerica it's really aggressive to blast...</td>\n",
              "      <td>NaN</td>\n",
              "      <td>2015-02-24 11:15:36 -0800</td>\n",
              "      <td>NaN</td>\n",
              "      <td>Pacific Time (US &amp; Canada)</td>\n",
              "    </tr>\n",
              "    <tr>\n",
              "      <th>4</th>\n",
              "      <td>5.703008e+17</td>\n",
              "      <td>negative</td>\n",
              "      <td>1.0000</td>\n",
              "      <td>Can't Tell</td>\n",
              "      <td>1.0000</td>\n",
              "      <td>Virgin America</td>\n",
              "      <td>NaN</td>\n",
              "      <td>jnardino</td>\n",
              "      <td>NaN</td>\n",
              "      <td>0</td>\n",
              "      <td>@VirginAmerica and it's a really big bad thing...</td>\n",
              "      <td>NaN</td>\n",
              "      <td>2015-02-24 11:14:45 -0800</td>\n",
              "      <td>NaN</td>\n",
              "      <td>Pacific Time (US &amp; Canada)</td>\n",
              "    </tr>\n",
              "  </tbody>\n",
              "</table>\n",
              "</div>"
            ],
            "text/plain": [
              "       tweet_id airline_sentiment  airline_sentiment_confidence  \\\n",
              "0  5.703061e+17           neutral                        1.0000   \n",
              "1  5.703011e+17          positive                        0.3486   \n",
              "2  5.703011e+17           neutral                        0.6837   \n",
              "3  5.703010e+17          negative                        1.0000   \n",
              "4  5.703008e+17          negative                        1.0000   \n",
              "\n",
              "  negativereason  negativereason_confidence         airline  \\\n",
              "0            NaN                        NaN  Virgin America   \n",
              "1            NaN                     0.0000  Virgin America   \n",
              "2            NaN                        NaN  Virgin America   \n",
              "3     Bad Flight                     0.7033  Virgin America   \n",
              "4     Can't Tell                     1.0000  Virgin America   \n",
              "\n",
              "  airline_sentiment_gold        name negativereason_gold  retweet_count  \\\n",
              "0                    NaN     cairdin                 NaN              0   \n",
              "1                    NaN    jnardino                 NaN              0   \n",
              "2                    NaN  yvonnalynn                 NaN              0   \n",
              "3                    NaN    jnardino                 NaN              0   \n",
              "4                    NaN    jnardino                 NaN              0   \n",
              "\n",
              "                                                text tweet_coord  \\\n",
              "0                @VirginAmerica What @dhepburn said.         NaN   \n",
              "1  @VirginAmerica plus you've added commercials t...         NaN   \n",
              "2  @VirginAmerica I didn't today... Must mean I n...         NaN   \n",
              "3  @VirginAmerica it's really aggressive to blast...         NaN   \n",
              "4  @VirginAmerica and it's a really big bad thing...         NaN   \n",
              "\n",
              "               tweet_created tweet_location               user_timezone  \n",
              "0  2015-02-24 11:35:52 -0800            NaN  Eastern Time (US & Canada)  \n",
              "1  2015-02-24 11:15:59 -0800            NaN  Pacific Time (US & Canada)  \n",
              "2  2015-02-24 11:15:48 -0800      Lets Play  Central Time (US & Canada)  \n",
              "3  2015-02-24 11:15:36 -0800            NaN  Pacific Time (US & Canada)  \n",
              "4  2015-02-24 11:14:45 -0800            NaN  Pacific Time (US & Canada)  "
            ]
          },
          "execution_count": 20,
          "metadata": {},
          "output_type": "execute_result"
        }
      ],
      "source": [
        "#looking into our data\n",
        "data.head()"
      ]
    },
    {
      "cell_type": "code",
      "execution_count": 21,
      "metadata": {
        "colab": {
          "base_uri": "https://localhost:8080/"
        },
        "id": "tBP6MAirwQbz",
        "outputId": "db362e66-2441-4677-a1de-c3ef637037ef"
      },
      "outputs": [
        {
          "data": {
            "text/plain": [
              "Index(['tweet_id', 'airline_sentiment', 'airline_sentiment_confidence',\n",
              "       'negativereason', 'negativereason_confidence', 'airline',\n",
              "       'airline_sentiment_gold', 'name', 'negativereason_gold',\n",
              "       'retweet_count', 'text', 'tweet_coord', 'tweet_created',\n",
              "       'tweet_location', 'user_timezone'],\n",
              "      dtype='object')"
            ]
          },
          "execution_count": 21,
          "metadata": {},
          "output_type": "execute_result"
        }
      ],
      "source": [
        "#checking columns in our data\n",
        "data.columns"
      ]
    },
    {
      "cell_type": "code",
      "execution_count": 22,
      "metadata": {
        "colab": {
          "base_uri": "https://localhost:8080/"
        },
        "id": "1WCoa2CFwSEL",
        "outputId": "69dd6c40-bcac-4eec-a0c5-3b63f32e6a52"
      },
      "outputs": [
        {
          "name": "stdout",
          "output_type": "stream",
          "text": [
            "<class 'pandas.core.frame.DataFrame'>\n",
            "RangeIndex: 14640 entries, 0 to 14639\n",
            "Data columns (total 15 columns):\n",
            " #   Column                        Non-Null Count  Dtype  \n",
            "---  ------                        --------------  -----  \n",
            " 0   tweet_id                      14640 non-null  float64\n",
            " 1   airline_sentiment             14640 non-null  object \n",
            " 2   airline_sentiment_confidence  14640 non-null  float64\n",
            " 3   negativereason                9178 non-null   object \n",
            " 4   negativereason_confidence     10522 non-null  float64\n",
            " 5   airline                       14640 non-null  object \n",
            " 6   airline_sentiment_gold        40 non-null     object \n",
            " 7   name                          14640 non-null  object \n",
            " 8   negativereason_gold           32 non-null     object \n",
            " 9   retweet_count                 14640 non-null  int64  \n",
            " 10  text                          14640 non-null  object \n",
            " 11  tweet_coord                   1019 non-null   object \n",
            " 12  tweet_created                 14640 non-null  object \n",
            " 13  tweet_location                9907 non-null   object \n",
            " 14  user_timezone                 9820 non-null   object \n",
            "dtypes: float64(3), int64(1), object(11)\n",
            "memory usage: 1.7+ MB\n"
          ]
        }
      ],
      "source": [
        "#checking info our data\n",
        "data.info()"
      ]
    },
    {
      "cell_type": "code",
      "execution_count": 23,
      "metadata": {
        "colab": {
          "base_uri": "https://localhost:8080/"
        },
        "id": "6qh9iwrAwTWT",
        "outputId": "773622aa-31b9-43c8-c3a1-aa1e680c63c8"
      },
      "outputs": [
        {
          "data": {
            "text/plain": [
              "tweet_id                        14484\n",
              "airline_sentiment                   3\n",
              "airline_sentiment_confidence     1023\n",
              "negativereason                     10\n",
              "negativereason_confidence        1410\n",
              "airline                             6\n",
              "airline_sentiment_gold              3\n",
              "name                             7701\n",
              "negativereason_gold                13\n",
              "retweet_count                      18\n",
              "text                            14427\n",
              "tweet_coord                       832\n",
              "tweet_created                   14247\n",
              "tweet_location                   3022\n",
              "user_timezone                      85\n",
              "dtype: int64"
            ]
          },
          "execution_count": 23,
          "metadata": {},
          "output_type": "execute_result"
        }
      ],
      "source": [
        "#checking unique values\n",
        "data.nunique()"
      ]
    },
    {
      "cell_type": "code",
      "execution_count": 24,
      "metadata": {
        "colab": {
          "base_uri": "https://localhost:8080/"
        },
        "id": "1KQhr9cxwUqi",
        "outputId": "500cbc14-0cf9-4d96-eb73-e7bf5185ae52"
      },
      "outputs": [
        {
          "data": {
            "text/plain": [
              "tweet_id                            0\n",
              "airline_sentiment                   0\n",
              "airline_sentiment_confidence        0\n",
              "negativereason                   5462\n",
              "negativereason_confidence        4118\n",
              "airline                             0\n",
              "airline_sentiment_gold          14600\n",
              "name                                0\n",
              "negativereason_gold             14608\n",
              "retweet_count                       0\n",
              "text                                0\n",
              "tweet_coord                     13621\n",
              "tweet_created                       0\n",
              "tweet_location                   4733\n",
              "user_timezone                    4820\n",
              "dtype: int64"
            ]
          },
          "execution_count": 24,
          "metadata": {},
          "output_type": "execute_result"
        }
      ],
      "source": [
        "#checking null values in our data\n",
        "data.isnull().sum()"
      ]
    },
    {
      "cell_type": "code",
      "execution_count": 25,
      "metadata": {
        "colab": {
          "base_uri": "https://localhost:8080/",
          "height": 424
        },
        "id": "TvIsoZiZwWIc",
        "outputId": "75a656c4-44e1-4b1e-a4d4-3e68ce5febf7"
      },
      "outputs": [
        {
          "data": {
            "text/plain": [
              "<Axes: ylabel='count'>"
            ]
          },
          "execution_count": 25,
          "metadata": {},
          "output_type": "execute_result"
        },
        {
          "data": {
            "image/png": "[encoded data removed]",
            "text/plain": [
              "<Figure size 640x480 with 1 Axes>"
            ]
          },
          "metadata": {},
          "output_type": "display_data"
        }
      ],
      "source": [
        "# Đếm xem có bao nhiêu hãng máy bay\n",
        "data[\"airline\"].value_counts().plot(kind=\"pie\", autopct='%.2f')"
      ]
    },
    {
      "cell_type": "code",
      "execution_count": 26,
      "metadata": {
        "colab": {
          "base_uri": "https://localhost:8080/",
          "height": 424
        },
        "id": "wzF0IxQ9wXei",
        "outputId": "a9b8beaf-1895-4419-e255-90bdc5c277b7"
      },
      "outputs": [
        {
          "data": {
            "text/plain": [
              "<Axes: ylabel='count'>"
            ]
          },
          "execution_count": 26,
          "metadata": {},
          "output_type": "execute_result"
        },
        {
          "data": {
            "image/png": "[encoded data removed]",
            "text/plain": [
              "<Figure size 640x480 with 1 Axes>"
            ]
          },
          "metadata": {},
          "output_type": "display_data"
        }
      ],
      "source": [
        "# Đếm xem có bao nhiêu nhãn cảm xúc trong tất cả các tweets\n",
        "data[\"airline_sentiment\"].value_counts().plot(kind='pie', autopct='%1.0f%%', colors=[\"red\", \"yellow\", \"green\"])"
      ]
    },
    {
      "cell_type": "code",
      "execution_count": 27,
      "metadata": {
        "colab": {
          "base_uri": "https://localhost:8080/",
          "height": 555
        },
        "id": "ULAXKmCcwZGT",
        "outputId": "d514bfb0-c037-48d6-9aa2-5db14bd6cbfb"
      },
      "outputs": [
        {
          "data": {
            "text/plain": [
              "<Axes: xlabel='airline'>"
            ]
          },
          "execution_count": 27,
          "metadata": {},
          "output_type": "execute_result"
        },
        {
          "data": {
            "image/png": "[encoded data removed]",
            "text/plain": [
              "<Figure size 640x480 with 1 Axes>"
            ]
          },
          "metadata": {},
          "output_type": "display_data"
        }
      ],
      "source": [
        "airline_sentiment = data.groupby(['airline', 'airline_sentiment']).airline_sentiment.count().unstack()\n",
        "airline_sentiment.plot(kind='bar')"
      ]
    },
    {
      "cell_type": "code",
      "execution_count": 28,
      "metadata": {
        "colab": {
          "base_uri": "https://localhost:8080/"
        },
        "id": "t4a778HXwgR7",
        "outputId": "fcccd1c1-83b8-4294-a2d9-c4ac9c9a5782"
      },
      "outputs": [
        {
          "name": "stdout",
          "output_type": "stream",
          "text": [
            "Feature: @VirginAmerica I didn't today... Must mean I need to take another trip!, Label: neutral\n"
          ]
        }
      ],
      "source": [
        "features = data[\"text\"].values\n",
        "labels = data[\"airline_sentiment\"].values\n",
        "print(f\"Feature: {features[2]}, Label: {labels[0]}\")"
      ]
    },
    {
      "cell_type": "code",
      "execution_count": 29,
      "metadata": {
        "colab": {
          "base_uri": "https://localhost:8080/"
        },
        "id": "AjW8dFvlwjKz",
        "outputId": "c146937d-8b9c-439d-c946-6cf4420ff5df"
      },
      "outputs": [
        {
          "name": "stdout",
          "output_type": "stream",
          "text": [
            "['negative' 'neutral' 'positive']\n",
            "Text-label: ['neutral' 'positive' 'neutral' 'negative' 'negative'], Number-Label:[1 2 1 0 0]\n"
          ]
        }
      ],
      "source": [
        "from sklearn.preprocessing import LabelEncoder\n",
        "\n",
        "encoder = LabelEncoder()\n",
        "\n",
        "labels_text = data[\"airline_sentiment\"].values\n",
        "labels = encoder.fit_transform(labels_text)\n",
        "\n",
        "print(encoder.classes_)\n",
        "print(f\"Text-label: {labels_text[:5]}, Number-Label:{labels[:5]}\")"
      ]
    },
    {
      "cell_type": "code",
      "execution_count": 30,
      "metadata": {
        "colab": {
          "base_uri": "https://localhost:8080/"
        },
        "id": "aWVq3IRnwnZd",
        "outputId": "9c6e82a1-db19-4e62-a185-ad8d8bf926d0"
      },
      "outputs": [
        {
          "name": "stdout",
          "output_type": "stream",
          "text": [
            "11712 11712\n",
            "2928 2928\n"
          ]
        }
      ],
      "source": [
        "x_train, x_test, y_train, y_test = train_test_split(features, labels, test_size=0.2, random_state=42)\n",
        "print(len(x_train), len(y_train))\n",
        "print(len(x_test), len(y_test))"
      ]
    },
    {
      "cell_type": "code",
      "execution_count": 31,
      "metadata": {
        "colab": {
          "base_uri": "https://localhost:8080/"
        },
        "id": "QhaDv6nnwrJD",
        "outputId": "75195f62-05b7-4114-92b0-d401fbd1d58c"
      },
      "outputs": [
        {
          "name": "stdout",
          "output_type": "stream",
          "text": [
            "[[0 0 0 ... 0 0 0]] 13267\n"
          ]
        }
      ],
      "source": [
        "from sklearn.feature_extraction.text import CountVectorizer\n",
        "\n",
        "# instantiate the vectorizer\n",
        "vect = CountVectorizer()\n",
        "vect.fit(x_train)\n",
        "\n",
        "# Use the trained to create a document-term matrix from train and test sets\n",
        "x_train_dtm = vect.transform(x_train).toarray()\n",
        "x_test_dtm = vect.transform(x_test).toarray()\n",
        "\n",
        "print(x_train_dtm[:1], len(x_train_dtm[0]))"
      ]
    },
    {
      "cell_type": "code",
      "execution_count": 32,
      "metadata": {
        "colab": {
          "base_uri": "https://localhost:8080/",
          "height": 632
        },
        "id": "tPX_VQG_wzeL",
        "outputId": "9a469acc-5f96-4a97-cd01-a1a20ed61dc0"
      },
      "outputs": [
        {
          "name": "stderr",
          "output_type": "stream",
          "text": [
            "/Users/cngvng/anaconda3/envs/askme/lib/python3.9/site-packages/sklearn/linear_model/_logistic.py:458: ConvergenceWarning: lbfgs failed to converge (status=1):\n",
            "STOP: TOTAL NO. of ITERATIONS REACHED LIMIT.\n",
            "\n",
            "Increase the number of iterations (max_iter) or scale the data as shown in:\n",
            "    https://scikit-learn.org/stable/modules/preprocessing.html\n",
            "Please also refer to the documentation for alternative solver options:\n",
            "    https://scikit-learn.org/stable/modules/linear_model.html#logistic-regression\n",
            "  n_iter_i = _check_optimize_result(\n"
          ]
        },
        {
          "name": "stdout",
          "output_type": "stream",
          "text": [
            "Accuracy:0.798155737704918\n"
          ]
        },
        {
          "data": {
            "text/plain": [
              "<sklearn.metrics._plot.confusion_matrix.ConfusionMatrixDisplay at 0x330b9f550>"
            ]
          },
          "execution_count": 32,
          "metadata": {},
          "output_type": "execute_result"
        },
        {
          "data": {
            "image/png": "[encoded data removed]",
            "text/plain": [
              "<Figure size 640x480 with 2 Axes>"
            ]
          },
          "metadata": {},
          "output_type": "display_data"
        }
      ],
      "source": [
        "from sklearn.linear_model import LogisticRegression\n",
        "from sklearn.metrics import ConfusionMatrixDisplay\n",
        "\n",
        "model = LogisticRegression()\n",
        "\n",
        "model.fit(x_train_dtm, y_train)\n",
        "\n",
        "#predicting output for test data\n",
        "pred = model.predict(x_test_dtm)\n",
        "\n",
        "#accuracy score\n",
        "print(f\"Accuracy:{accuracy_score(y_test, pred)}\")\n",
        "\n",
        "# draw confusion matrix\n",
        "ConfusionMatrixDisplay.from_estimator(model, x_test_dtm, y_test)"
      ]
    },
    {
      "cell_type": "code",
      "execution_count": 33,
      "metadata": {
        "colab": {
          "base_uri": "https://localhost:8080/"
        },
        "id": "QATFrGuxw2QM",
        "outputId": "bffea8f7-4686-428f-9409-7c20277bdb27"
      },
      "outputs": [
        {
          "name": "stdout",
          "output_type": "stream",
          "text": [
            "[[0 0 0 ... 0 0 0]] 5000\n"
          ]
        }
      ],
      "source": [
        "# instantiate the vectorizer\n",
        "vect = CountVectorizer(max_features=5000)\n",
        "vect.fit(x_train)\n",
        "\n",
        "# Use the trained to create a document-term matrix from train and test sets\n",
        "x_train_dtm = vect.transform(x_train).toarray()\n",
        "x_test_dtm = vect.transform(x_test).toarray()\n",
        "\n",
        "print(x_train_dtm[:1], len(x_train_dtm[0]))"
      ]
    },
    {
      "cell_type": "code",
      "execution_count": 34,
      "metadata": {
        "colab": {
          "base_uri": "https://localhost:8080/",
          "height": 632
        },
        "id": "iId05g61w7Sr",
        "outputId": "6047b6f3-36eb-493a-8bab-afa3fcb3aa6f"
      },
      "outputs": [
        {
          "name": "stdout",
          "output_type": "stream",
          "text": [
            "Accuracy:0.8008879781420765\n"
          ]
        },
        {
          "name": "stderr",
          "output_type": "stream",
          "text": [
            "/Users/cngvng/anaconda3/envs/askme/lib/python3.9/site-packages/sklearn/linear_model/_logistic.py:458: ConvergenceWarning: lbfgs failed to converge (status=1):\n",
            "STOP: TOTAL NO. of ITERATIONS REACHED LIMIT.\n",
            "\n",
            "Increase the number of iterations (max_iter) or scale the data as shown in:\n",
            "    https://scikit-learn.org/stable/modules/preprocessing.html\n",
            "Please also refer to the documentation for alternative solver options:\n",
            "    https://scikit-learn.org/stable/modules/linear_model.html#logistic-regression\n",
            "  n_iter_i = _check_optimize_result(\n"
          ]
        },
        {
          "data": {
            "text/plain": [
              "<sklearn.metrics._plot.confusion_matrix.ConfusionMatrixDisplay at 0x330c9d310>"
            ]
          },
          "execution_count": 34,
          "metadata": {},
          "output_type": "execute_result"
        },
        {
          "data": {
            "image/png": "[encoded data removed]",
            "text/plain": [
              "<Figure size 640x480 with 2 Axes>"
            ]
          },
          "metadata": {},
          "output_type": "display_data"
        }
      ],
      "source": [
        "from sklearn.linear_model import LogisticRegression\n",
        "from sklearn.metrics import ConfusionMatrixDisplay\n",
        "\n",
        "model = LogisticRegression()\n",
        "\n",
        "model.fit(x_train_dtm, y_train)\n",
        "\n",
        "#predicting output for test data\n",
        "pred = model.predict(x_test_dtm)\n",
        "\n",
        "#accuracy score\n",
        "print(f\"Accuracy:{accuracy_score(y_test, pred)}\")\n",
        "\n",
        "# draw confusion matrix\n",
        "ConfusionMatrixDisplay.from_estimator(model, x_test_dtm, y_test)"
      ]
    },
    {
      "cell_type": "markdown",
      "metadata": {
        "id": "rjUu8eRNw75O"
      },
      "source": [
        "#### 4.2.Random Forest"
      ]
    },
    {
      "cell_type": "code",
      "execution_count": 35,
      "metadata": {
        "colab": {
          "base_uri": "https://localhost:8080/",
          "height": 490
        },
        "id": "4XikrwoaxAeu",
        "outputId": "abdede1d-69db-4446-a79a-941bb3c06b94"
      },
      "outputs": [
        {
          "name": "stdout",
          "output_type": "stream",
          "text": [
            "Accuracy:0.7773224043715847\n"
          ]
        },
        {
          "data": {
            "text/plain": [
              "<sklearn.metrics._plot.confusion_matrix.ConfusionMatrixDisplay at 0x3303fbe80>"
            ]
          },
          "execution_count": 35,
          "metadata": {},
          "output_type": "execute_result"
        },
        {
          "data": {
            "image/png": "[encoded data removed]",
            "text/plain": [
              "<Figure size 640x480 with 2 Axes>"
            ]
          },
          "metadata": {},
          "output_type": "display_data"
        }
      ],
      "source": [
        "from sklearn.ensemble import RandomForestClassifier\n",
        "from sklearn.metrics import ConfusionMatrixDisplay\n",
        "\n",
        "model = RandomForestClassifier(n_estimators=200, random_state=0)\n",
        "model.fit(x_train_dtm, y_train)\n",
        "\n",
        "#predicting output for test data\n",
        "pred = model.predict(x_test_dtm)\n",
        "\n",
        "#accuracy score\n",
        "print(f\"Accuracy:{accuracy_score(y_test, pred)}\")\n",
        "\n",
        "# draw confusion matrix\n",
        "ConfusionMatrixDisplay.from_estimator(model, x_test_dtm, y_test)"
      ]
    },
    {
      "cell_type": "code",
      "execution_count": 36,
      "metadata": {
        "colab": {
          "base_uri": "https://localhost:8080/"
        },
        "id": "i_IcS-ubxB7I",
        "outputId": "f789958d-7b10-415e-b32e-15b58bb03d8a"
      },
      "outputs": [
        {
          "name": "stdout",
          "output_type": "stream",
          "text": [
            "              precision    recall  f1-score   support\n",
            "\n",
            "           0       0.79      0.96      0.86      1889\n",
            "           1       0.68      0.40      0.50       580\n",
            "           2       0.82      0.51      0.63       459\n",
            "\n",
            "    accuracy                           0.78      2928\n",
            "   macro avg       0.76      0.62      0.67      2928\n",
            "weighted avg       0.77      0.78      0.76      2928\n",
            "\n"
          ]
        }
      ],
      "source": [
        "# Đưa ra thông tin báo cáo về kết quả phân loại\n",
        "print(classification_report(y_test, pred))"
      ]
    },
    {
      "cell_type": "markdown",
      "metadata": {
        "id": "aF46gAO9xDbK"
      },
      "source": [
        "**Kết quả vẫn rất kém, ta sẽ dùng features được tạo ra bởi TfidfVectorizer trong scikit-learn**\n"
      ]
    },
    {
      "cell_type": "markdown",
      "metadata": {
        "id": "5mQ0Bl5Tw5nW"
      },
      "source": [
        "#### TF-IDF features"
      ]
    },
    {
      "cell_type": "code",
      "execution_count": 37,
      "metadata": {
        "colab": {
          "base_uri": "https://localhost:8080/"
        },
        "id": "9atN_JvPxJJo",
        "outputId": "d4cf4563-ba85-47a5-b056-7006e120a298"
      },
      "outputs": [
        {
          "name": "stdout",
          "output_type": "stream",
          "text": [
            "[[0. 0. 0. ... 0. 0. 0.]] 2439\n"
          ]
        }
      ],
      "source": [
        "from sklearn.feature_extraction.text import TfidfVectorizer\n",
        "\n",
        "# instantiate the vectorizer\n",
        "vect = TfidfVectorizer (max_features=2500, min_df=5, max_df=0.9, stop_words=\"english\")\n",
        "vect.fit(x_train)\n",
        "\n",
        "# Use the trained to create a document-term matrix from train and test sets\n",
        "x_train_tfidf = vect.transform(x_train).toarray()\n",
        "x_test_tfidf = vect.transform(x_test).toarray()\n",
        "\n",
        "print(x_train_tfidf[:1], len(x_train_tfidf[0]))"
      ]
    },
    {
      "cell_type": "markdown",
      "metadata": {
        "id": "mFfJ7ggiw30N"
      },
      "source": [
        "#### Random Forest Again"
      ]
    },
    {
      "cell_type": "code",
      "execution_count": 38,
      "metadata": {
        "colab": {
          "base_uri": "https://localhost:8080/",
          "height": 486
        },
        "id": "PgCoFXrvxOrj",
        "outputId": "2bd3a8bb-242d-4ff0-d505-1f55c7ff9c00"
      },
      "outputs": [
        {
          "name": "stdout",
          "output_type": "stream",
          "text": [
            "Accuracy:0.7612704918032787\n"
          ]
        },
        {
          "data": {
            "text/plain": [
              "<sklearn.metrics._plot.confusion_matrix.ConfusionMatrixDisplay at 0x3d7c567f0>"
            ]
          },
          "execution_count": 38,
          "metadata": {},
          "output_type": "execute_result"
        },
        {
          "data": {
            "image/png": "[encoded data removed]",
            "text/plain": [
              "<Figure size 640x480 with 2 Axes>"
            ]
          },
          "metadata": {},
          "output_type": "display_data"
        }
      ],
      "source": [
        "from sklearn.ensemble import RandomForestClassifier\n",
        "from sklearn.metrics import ConfusionMatrixDisplay\n",
        "\n",
        "model = RandomForestClassifier(n_estimators=200, random_state=0)\n",
        "model.fit(x_train_tfidf, y_train)\n",
        "\n",
        "#predicting output for test data\n",
        "pred = model.predict(x_test_tfidf)\n",
        "\n",
        "#accuracy score\n",
        "print(f\"Accuracy:{accuracy_score(y_test, pred)}\")\n",
        "\n",
        "# draw confusion matrix\n",
        "ConfusionMatrixDisplay.from_estimator(model, x_test_tfidf, y_test)\n"
      ]
    }
  ],
  "metadata": {
    "colab": {
      "provenance": [],
      "toc_visible": true
    },
    "kernelspec": {
      "display_name": "Python 3",
      "name": "python3"
    },
    "language_info": {
      "codemirror_mode": {
        "name": "ipython",
        "version": 3
      },
      "file_extension": ".py",
      "mimetype": "text/x-python",
      "name": "python",
      "nbconvert_exporter": "python",
      "pygments_lexer": "ipython3",
      "version": "3.9.18"
    }
  },
  "nbformat": 4,
  "nbformat_minor": 0
}
